{
 "cells": [
  {
   "cell_type": "code",
   "execution_count": 1,
   "metadata": {},
   "outputs": [],
   "source": [
    "w = [2, -3, -3]\n",
    "x = [-1, -2]"
   ]
  },
  {
   "cell_type": "markdown",
   "metadata": {},
   "source": [
    "# forward pass"
   ]
  },
  {
   "cell_type": "code",
   "execution_count": 4,
   "metadata": {},
   "outputs": [
    {
     "name": "stdout",
     "output_type": "stream",
     "text": [
      "1\n"
     ]
    }
   ],
   "source": [
    "dot = w[0]*x[0] + w[1]*x[1] + w[2]\n",
    "print(dot)"
   ]
  },
  {
   "cell_type": "code",
   "execution_count": 7,
   "metadata": {},
   "outputs": [
    {
     "name": "stdout",
     "output_type": "stream",
     "text": [
      "0.7310585786300049\n"
     ]
    }
   ],
   "source": [
    "import math \n",
    "f = 1.0 / (1.0 + math.exp(-dot))\n",
    "print(f)"
   ]
  },
  {
   "cell_type": "markdown",
   "metadata": {},
   "source": [
    "# backward pass"
   ]
  },
  {
   "cell_type": "code",
   "execution_count": 8,
   "metadata": {},
   "outputs": [
    {
     "name": "stdout",
     "output_type": "stream",
     "text": [
      "0.19661193324148185\n"
     ]
    }
   ],
   "source": [
    "ddot = (1-f) *f\n",
    "print(ddot)"
   ]
  },
  {
   "cell_type": "code",
   "execution_count": 10,
   "metadata": {},
   "outputs": [
    {
     "name": "stdout",
     "output_type": "stream",
     "text": [
      "[0.3932238664829637, -0.5898357997244456] [-0.19661193324148185, -0.3932238664829637, 0.19661193324148185]\n"
     ]
    }
   ],
   "source": [
    "dx = [w[0]*ddot, w[1]*ddot]\n",
    "dw = [x[0] * ddot, x[1] * ddot, 1.0 * ddot]\n",
    "print(dx, dw)"
   ]
  },
  {
   "cell_type": "markdown",
   "metadata": {},
   "source": [
    "# staged computation\n",
    "forward pass"
   ]
  },
  {
   "cell_type": "code",
   "execution_count": 13,
   "metadata": {},
   "outputs": [
    {
     "name": "stdout",
     "output_type": "stream",
     "text": [
      "0.01798620996209156 3.0179862099620918 0.9525741268224334 -1 1 1.9525741268224333 0.5121444488396316 1.5456448841066441\n"
     ]
    }
   ],
   "source": [
    "x = 3 # example values\n",
    "y = -4\n",
    "\n",
    "sigy = 1.0 / (1.0 + math.exp(-y))\n",
    "num = x + sigy\n",
    "sigx = 1.0 / (1.0 + math.exp(-x))\n",
    "suma = x + y\n",
    "suma2 = suma**2\n",
    "den = sigx + suma2\n",
    "invden = 1 / den\n",
    "f = num * invden\n",
    "\n",
    "print(sigy, num, sigx, suma, suma2, den, invden,f)"
   ]
  },
  {
   "cell_type": "code",
   "execution_count": 26,
   "metadata": {},
   "outputs": [
    {
     "name": "stdout",
     "output_type": "stream",
     "text": [
      "0.5121444488396316 3.0179862099620918 -0.7915934472725935 -0.7915934472725935 -0.7915934472725935 1.583186894545187 2.0595697955721652 1.5922327514838093\n"
     ]
    }
   ],
   "source": [
    "# backprop f = num * invden\n",
    "dnum = invden # gradient on numerator                             #(8)\n",
    "dinvden = num                                                     #(8)\n",
    "# backprop invden = 1.0 / den \n",
    "dden = (-1.0 / (den**2)) * dinvden                                #(7)\n",
    "# backprop den = sigx + suma2\n",
    "dsigx = (1) * dden  \n",
    "dsuma2 = (1) * dden                                               #(6)\n",
    "# backprop xpysqr = xpy**2\n",
    "dsuma = (2 * suma) * dsuma2                                         #(5)\n",
    "# backprop xpy = x + y\n",
    "dx = (1) * dsuma                                                   #(4)\n",
    "dy = (1) * dsuma                                                   #(4)\n",
    "# backprop sigx = 1.0 / (1 + math.exp(-x))\n",
    "dx += ((1 - sigx) * sigx) * dsigx # Notice += !! See notes below  #(3)\n",
    "# backprop num = x + sigy\n",
    "dx += (1) * dnum                                                  #(2)\n",
    "dsigy = (1) * dnum                                                #(2)\n",
    "# backprop sigy = 1.0 / (1 + math.exp(-y))\n",
    "dy += ((1 - sigy) * sigy) * dsigy                                 #(1)\n",
    "\n",
    "print(dnum, dinvden, dden, dsigx, dsuma2, dsuma, dx, dy)"
   ]
  },
  {
   "cell_type": "markdown",
   "metadata": {},
   "source": [
    "# Vectorized operations"
   ]
  },
  {
   "cell_type": "code",
   "execution_count": 30,
   "metadata": {},
   "outputs": [
    {
     "name": "stdout",
     "output_type": "stream",
     "text": [
      "[[-7.53311766 -3.65599817  5.09826261]\n",
      " [ 1.5075009   2.09143959 -1.12701444]\n",
      " [ 1.17272786 -5.06407435  1.42023227]\n",
      " [ 2.00572066  0.77543769  2.58862275]\n",
      " [-3.21024316  1.29633621  1.00825081]]\n"
     ]
    }
   ],
   "source": [
    "import numpy as np\n",
    "\n",
    "W = np.random.randn(5, 10) # 5x10\n",
    "X = np.random.randn(10, 3) # 10x3\n",
    "D = W.dot(X) # 5x3\n",
    "\n",
    "print(D)"
   ]
  },
  {
   "cell_type": "code",
   "execution_count": 31,
   "metadata": {},
   "outputs": [
    {
     "name": "stdout",
     "output_type": "stream",
     "text": [
      "[0 1 2 3 4]\n"
     ]
    }
   ],
   "source": [
    "print(np.arange(5))"
   ]
  },
  {
   "cell_type": "code",
   "execution_count": null,
   "metadata": {},
   "outputs": [],
   "source": []
  }
 ],
 "metadata": {
  "kernelspec": {
   "display_name": "Python 3",
   "language": "python",
   "name": "python3"
  },
  "language_info": {
   "codemirror_mode": {
    "name": "ipython",
    "version": 3
   },
   "file_extension": ".py",
   "mimetype": "text/x-python",
   "name": "python",
   "nbconvert_exporter": "python",
   "pygments_lexer": "ipython3",
   "version": "3.6.5"
  }
 },
 "nbformat": 4,
 "nbformat_minor": 2
}
